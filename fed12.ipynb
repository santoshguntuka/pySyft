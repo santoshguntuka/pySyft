{
 "cells": [
  {
   "cell_type": "code",
   "execution_count": 15,
   "metadata": {},
   "outputs": [
    {
     "name": "stdout",
     "output_type": "stream",
     "text": [
      "Note: you may need to restart the kernel to use updated packages.\n"
     ]
    },
    {
     "name": "stderr",
     "output_type": "stream",
     "text": [
      "\n",
      "[notice] A new release of pip available: 22.3.1 -> 24.1.2\n",
      "[notice] To update, run: C:\\Users\\smart\\AppData\\Local\\Microsoft\\WindowsApps\\PythonSoftwareFoundation.Python.3.10_qbz5n2kfra8p0\\python.exe -m pip install --upgrade pip\n"
     ]
    }
   ],
   "source": [
    "%pip install \"syft>=0.8.2.b0,<0.9\" -q"
   ]
  },
  {
   "cell_type": "code",
   "execution_count": 2,
   "metadata": {},
   "outputs": [],
   "source": [
    "import torch\n",
    "import torch.nn as nn\n",
    "import torch.nn.functional as F\n",
    "from sklearn.datasets import load_breast_cancer\n",
    "from sklearn.preprocessing import StandardScaler\n",
    "from sklearn.metrics import accuracy_score, roc_auc_score, precision_score, recall_score, f1_score, confusion_matrix\n",
    "from sklearn.model_selection import train_test_split\n",
    "import syft as sy"
   ]
  },
  {
   "cell_type": "code",
   "execution_count": 3,
   "metadata": {},
   "outputs": [],
   "source": [
    "# Set the host and port for the server\n",
    "host = \"127.0.0.1\"  # Localhost\n",
    "port = 8081  # Choose an appropriate port number"
   ]
  },
  {
   "cell_type": "code",
   "execution_count": 4,
   "metadata": {},
   "outputs": [
    {
     "name": "stdout",
     "output_type": "stream",
     "text": [
      "Starting test-domain-1 server on 127.0.0.1:8081\n",
      " Done.\n"
     ]
    },
    {
     "data": {
      "text/html": [
       "<div class=\"alert-info\" style=\"padding:5px;\"><strong>SyftInfo</strong>: <pre class=\"alert-info\" style=\"display:inline; font-family:inherit;\">You have launched a development server at http://127.0.0.1:8081.It is intended only for local use.</pre></div><br/>"
      ],
      "text/plain": [
       "SyftInfo: You have launched a development server at http://127.0.0.1:8081.It is intended only for local use."
      ]
     },
     "metadata": {},
     "output_type": "display_data"
    },
    {
     "name": "stdout",
     "output_type": "stream",
     "text": [
      "Logged into <test-domain-1: High-side Datasite> as GUEST\n",
      "Logged into <test-domain-1: High side Datasite> as <info@openmined.org>\n"
     ]
    },
    {
     "data": {
      "text/html": [
       "<div class=\"alert-warning\" style=\"padding:5px;\"><strong>SyftWarning</strong>: <pre class=\"alert-warning\" style=\"display:inline; font-family:inherit;\">You are using a default password. Please change the password using `[your_client].me.set_password([new_password])`.</pre></div><br/>"
      ],
      "text/plain": [
       "SyftWarning: You are using a default password. Please change the password using `[your_client].me.set_password([new_password])`."
      ]
     },
     "metadata": {},
     "output_type": "display_data"
    }
   ],
   "source": [
    "node = sy.orchestra.launch(name=\"test-domain-1\", host=host, port=port, dev_mode=False, reset=True)\n",
    "domain_client = node.login(email=\"info@openmined.org\", password=\"changethis\")"
   ]
  },
  {
   "cell_type": "code",
   "execution_count": 18,
   "metadata": {},
   "outputs": [
    {
     "name": "stdout",
     "output_type": "stream",
     "text": [
      "<DatasiteClient: test-domain-1>\n"
     ]
    }
   ],
   "source": [
    "print(domain_client)"
   ]
  },
  {
   "cell_type": "code",
   "execution_count": 5,
   "metadata": {},
   "outputs": [
    {
     "data": {
      "text/plain": [
       "<torch._C.Generator at 0x1402e8cdef0>"
      ]
     },
     "execution_count": 5,
     "metadata": {},
     "output_type": "execute_result"
    }
   ],
   "source": [
    "# Set the random seed for reproducibility\n",
    "torch.manual_seed(42)"
   ]
  },
  {
   "cell_type": "code",
   "execution_count": 6,
   "metadata": {},
   "outputs": [],
   "source": [
    "# Load the Breast Cancer dataset\n",
    "data = load_breast_cancer()\n",
    "X, y = data.data, data.target\n",
    "\n",
    "# Standardize the features\n",
    "scaler = StandardScaler()\n",
    "X = scaler.fit_transform(X)\n",
    "\n",
    "# Convert the data to PyTorch tensors\n",
    "X = torch.tensor(X, dtype=torch.float32)\n",
    "y = torch.tensor(y, dtype=torch.long)"
   ]
  },
  {
   "cell_type": "code",
   "execution_count": 7,
   "metadata": {},
   "outputs": [],
   "source": [
    "# Split the data into training and test sets\n",
    "X_train, X_test, y_train, y_test = train_test_split(X, y, test_size=0.2, random_state=42)"
   ]
  },
  {
   "cell_type": "code",
   "execution_count": 8,
   "metadata": {},
   "outputs": [],
   "source": [
    "# Convert training data to a Syft ActionObject and send it to the domain\n",
    "train_data = sy.ActionObject.from_obj(X_train)\n",
    "train_labels = sy.ActionObject.from_obj(y_train)\n",
    "train_data_domain_obj = train_data.send(domain_client)\n",
    "train_labels_domain_obj = train_labels.send(domain_client)\n",
    "\n",
    "# Ensure that the sum of the training data is as expected (sum value will be dataset specific)\n",
    "assert torch.round(X_train.sum()) == torch.round(train_data_domain_obj.syft_action_data.sum())"
   ]
  },
  {
   "cell_type": "code",
   "execution_count": 9,
   "metadata": {},
   "outputs": [],
   "source": [
    "# Define the MLP model\n",
    "class MLP(nn.Module):\n",
    "    def __init__(self, input_dims, out_dims):\n",
    "        super().__init__()\n",
    "        self.out_dims = out_dims\n",
    "        self.linear1 = nn.Linear(input_dims, 128)\n",
    "        self.linear2 = nn.Linear(128, out_dims)\n",
    "\n",
    "    def forward(self, x):\n",
    "        x = self.linear1(x)\n",
    "        x = F.relu(x)\n",
    "        x = self.linear2(x)\n",
    "        return x\n",
    "\n",
    "model = MLP(input_dims=X_train.shape[1], out_dims=2)\n",
    "weights = model.state_dict()"
   ]
  },
  {
   "cell_type": "code",
   "execution_count": 10,
   "metadata": {},
   "outputs": [
    {
     "name": "stdout",
     "output_type": "stream",
     "text": [
      "Weights domain object: <class 'syft.service.action.action_object.AnyActionObject'> b9b74e606c484bfd9a6bed3c0ae57192\n",
      "Train data domain object: <class 'syft.service.action.action_object.AnyActionObject'> 65b88c1220be467ea27610ff1e362adb\n",
      "Train labels domain object: <class 'syft.service.action.action_object.AnyActionObject'> ebb7dc93ca8e425db1e6dd8e05577bda\n"
     ]
    }
   ],
   "source": [
    "# Convert model weights to a Syft ActionObject and send it to the domain\n",
    "weights_obj = sy.ActionObject.from_obj(weights)\n",
    "weights_domain_obj = weights_obj.send(domain_client)\n",
    "\n",
    "print(\"Weights domain object:\", type(weights_domain_obj), getattr(weights_domain_obj, 'id', 'No ID'))\n",
    "print(\"Train data domain object:\", type(train_data_domain_obj), getattr(train_data_domain_obj, 'id', 'No ID'))\n",
    "print(\"Train labels domain object:\", type(train_labels_domain_obj), getattr(train_labels_domain_obj, 'id', 'No ID'))"
   ]
  },
  {
   "cell_type": "code",
   "execution_count": 11,
   "metadata": {},
   "outputs": [
    {
     "data": {
      "text/html": [
       "<div class=\"alert-success\" style=\"padding:5px;\"><strong>SyftSuccess</strong>: <pre class=\"alert-success\" style=\"display:inline; font-family:inherit;\">Syft function 'train_mlp' successfully created. To add a code request, please create a project using `project = syft.Project(...)`, then use command `project.create_code_request`.</pre></div><br/>"
      ],
      "text/plain": [
       "SyftSuccess: Syft function 'train_mlp' successfully created. To add a code request, please create a project using `project = syft.Project(...)`, then use command `project.create_code_request`."
      ]
     },
     "metadata": {},
     "output_type": "display_data"
    }
   ],
   "source": [
    "# Define the training function\n",
    "@sy.syft_function(\n",
    "    input_policy=sy.ExactMatch(weights=weights_domain_obj.id, data=train_data_domain_obj.id, labels=train_labels_domain_obj.id),\n",
    "    output_policy=sy.SingleExecutionExactOutput(),\n",
    ")\n",
    "def train_mlp(weights, data, labels):\n",
    "    import torch\n",
    "    import torch.nn as nn\n",
    "    import torch.nn.functional as F\n",
    "    from torch.utils.data import TensorDataset, DataLoader\n",
    "\n",
    "    class MLP(nn.Module):\n",
    "        def __init__(self, input_dims, out_dims):\n",
    "            super().__init__()\n",
    "            self.out_dims = out_dims\n",
    "            self.linear1 = nn.Linear(input_dims, 128)\n",
    "            self.linear2 = nn.Linear(128, out_dims)\n",
    "\n",
    "        def forward(self, x):\n",
    "            x = self.linear1(x)\n",
    "            x = F.relu(x)\n",
    "            x = self.linear2(x)\n",
    "            return x\n",
    "\n",
    "    # Initialize the model\n",
    "    model = MLP(input_dims=data.shape[1], out_dims=2)\n",
    "\n",
    "    # Load weights into the model\n",
    "    model.load_state_dict(weights)\n",
    "\n",
    "    # Prepare the dataset and data loader\n",
    "    dataset = TensorDataset(data, labels)\n",
    "    loader = DataLoader(dataset, batch_size=4, shuffle=True)\n",
    "\n",
    "    # Define the optimizer and loss function\n",
    "    optimizer = torch.optim.Adam(model.parameters(), lr=0.001)\n",
    "    criterion = nn.CrossEntropyLoss()\n",
    "\n",
    "    # Train the model\n",
    "    model.train()\n",
    "    for epoch in range(10):  # 10 epochs for demonstration purposes\n",
    "        for batch_data, batch_labels in loader:\n",
    "            optimizer.zero_grad()\n",
    "            outputs = model(batch_data)\n",
    "            loss = criterion(outputs, batch_labels)\n",
    "            loss.backward()\n",
    "            optimizer.step()\n",
    "\n",
    "    # Perform a forward pass on the entire dataset to get the output\n",
    "    model.eval()\n",
    "    with torch.no_grad():\n",
    "        output = model(data)\n",
    "\n",
    "    return model.state_dict(), output"
   ]
  },
  {
   "cell_type": "code",
   "execution_count": 12,
   "metadata": {},
   "outputs": [
    {
     "name": "stdout",
     "output_type": "stream",
     "text": [
      "weights_domain_obj ID: b9b74e606c484bfd9a6bed3c0ae57192\n",
      "train_data_domain_obj ID: 65b88c1220be467ea27610ff1e362adb\n",
      "train_labels_domain_obj ID: ebb7dc93ca8e425db1e6dd8e05577bda\n",
      "Approving request on change train_mlp for datasite test-domain-1\n"
     ]
    }
   ],
   "source": [
    "# Ensure that the domain objects are properly created\n",
    "assert isinstance(weights_domain_obj, sy.ActionObject), \"weights_domain_obj is not an ActionObject\"\n",
    "assert isinstance(train_data_domain_obj, sy.ActionObject), \"train_data_domain_obj is not an ActionObject\"\n",
    "assert isinstance(train_labels_domain_obj, sy.ActionObject), \"train_labels_domain_obj is not an ActionObject\"\n",
    "\n",
    "# Ensure the domain objects have valid IDs\n",
    "print(\"weights_domain_obj ID:\", getattr(weights_domain_obj, 'id', 'No ID'))\n",
    "print(\"train_data_domain_obj ID:\", getattr(train_data_domain_obj, 'id', 'No ID'))\n",
    "print(\"train_labels_domain_obj ID:\", getattr(train_labels_domain_obj, 'id', 'No ID'))\n",
    "\n",
    "# Register and execute the training function\n",
    "request = domain_client.code.request_code_execution(train_mlp)\n",
    "request.approve()\n",
    "\n",
    "result_ptr = domain_client.code.train_mlp(weights=weights_domain_obj.id, data=train_data_domain_obj.id, labels=train_labels_domain_obj.id)\n",
    "trained_weights, train_output = result_ptr.get()"
   ]
  },
  {
   "cell_type": "code",
   "execution_count": 13,
   "metadata": {},
   "outputs": [
    {
     "name": "stdout",
     "output_type": "stream",
     "text": [
      "Accuracy: 0.9824561403508771\n",
      "AUC: 0.996069439895185\n",
      "Precision: 0.9859154929577465\n",
      "Recall: 0.9859154929577465\n",
      "F1 Score: 0.9859154929577465\n",
      "Confusion Matrix:\n",
      "[[42  1]\n",
      " [ 1 70]]\n"
     ]
    }
   ],
   "source": [
    "# Update local model with trained weights\n",
    "model.load_state_dict(trained_weights)\n",
    "\n",
    "# Evaluate the model on the test set\n",
    "model.eval()\n",
    "with torch.no_grad():\n",
    "    test_output = model(X_test)\n",
    "    test_predictions = torch.argmax(test_output, dim=1)\n",
    "\n",
    "# Calculate evaluation metrics\n",
    "accuracy = accuracy_score(y_test, test_predictions)\n",
    "auc = roc_auc_score(y_test, test_output[:, 1])\n",
    "precision = precision_score(y_test, test_predictions)\n",
    "recall = recall_score(y_test, test_predictions)\n",
    "f1 = f1_score(y_test, test_predictions)\n",
    "conf_matrix = confusion_matrix(y_test, test_predictions)\n",
    "\n",
    "print(f\"Accuracy: {accuracy}\")\n",
    "print(f\"AUC: {auc}\")\n",
    "print(f\"Precision: {precision}\")\n",
    "print(f\"Recall: {recall}\")\n",
    "print(f\"F1 Score: {f1}\")\n",
    "print(f\"Confusion Matrix:\\n{conf_matrix}\")"
   ]
  },
  {
   "cell_type": "code",
   "execution_count": 14,
   "metadata": {},
   "outputs": [
    {
     "name": "stdout",
     "output_type": "stream",
     "text": [
      "Accuracy Object ID: 488f679faccb4a5aa24ad7f54fa5eabf\n",
      "AUC Object ID: ab25e0f063164eddbd148d0df1703f4f\n",
      "Precision Object ID: 5184384143ca4e9fb53f798721766f15\n",
      "Recall Object ID: 4403ffff1718450bbcc21e7ac0f7a386\n",
      "F1 Score Object ID: 5884b8c0e5a942f59d6506933b91a41a\n"
     ]
    }
   ],
   "source": [
    "# Convert metrics to Syft ActionObjects and send them to the domain\n",
    "accuracy_obj = sy.ActionObject.from_obj(accuracy).send(domain_client)\n",
    "auc_obj = sy.ActionObject.from_obj(auc).send(domain_client)\n",
    "precision_obj = sy.ActionObject.from_obj(precision).send(domain_client)\n",
    "recall_obj = sy.ActionObject.from_obj(recall).send(domain_client)\n",
    "f1_obj = sy.ActionObject.from_obj(f1).send(domain_client)\n",
    "\n",
    "# Print the IDs of the sent metrics\n",
    "print(\"Accuracy Object ID:\", accuracy_obj.id)\n",
    "print(\"AUC Object ID:\", auc_obj.id)\n",
    "print(\"Precision Object ID:\", precision_obj.id)\n",
    "print(\"Recall Object ID:\", recall_obj.id)\n",
    "print(\"F1 Score Object ID:\", f1_obj.id)"
   ]
  },
  {
   "cell_type": "code",
   "execution_count": 16,
   "metadata": {},
   "outputs": [
    {
     "data": {
      "text/html": [
       "<div class=\"alert-success\" style=\"padding:5px;\"><strong>SyftSuccess</strong>: <pre class=\"alert-success\" style=\"display:inline; font-family:inherit;\">Syft function 'print_metrics' successfully created. To add a code request, please create a project using `project = syft.Project(...)`, then use command `project.create_code_request`.</pre></div><br/>"
      ],
      "text/plain": [
       "SyftSuccess: Syft function 'print_metrics' successfully created. To add a code request, please create a project using `project = syft.Project(...)`, then use command `project.create_code_request`."
      ]
     },
     "metadata": {},
     "output_type": "display_data"
    },
    {
     "name": "stdout",
     "output_type": "stream",
     "text": [
      "Approving request on change print_metrics for datasite test-domain-1\n"
     ]
    },
    {
     "data": {
      "text/markdown": [
       "\n",
       "**Pointer**\n",
       "\n",
       "None\n"
      ],
      "text/plain": [
       "Pointer:\n",
       "None"
      ]
     },
     "execution_count": 16,
     "metadata": {},
     "output_type": "execute_result"
    }
   ],
   "source": [
    "# Define a function to print the metrics on the server\n",
    "@sy.syft_function(\n",
    "    input_policy=sy.ExactMatch(accuracy=accuracy_obj.id, auc=auc_obj.id, precision=precision_obj.id, recall=recall_obj.id, f1=f1_obj.id),\n",
    "    output_policy=sy.SingleExecutionExactOutput(),\n",
    ")\n",
    "def print_metrics(accuracy, auc, precision, recall, f1):\n",
    "    print(f\"Accuracy: {accuracy}\")\n",
    "    print(f\"AUC: {auc}\")\n",
    "    print(f\"Precision: {precision}\")\n",
    "    print(f\"Recall: {recall}\")\n",
    "    print(f\"F1 Score: {f1}\")\n",
    "\n",
    "# Register and execute the print function\n",
    "request = domain_client.code.request_code_execution(print_metrics)\n",
    "request.approve()\n",
    "\n",
    "domain_client.code.print_metrics(\n",
    "    accuracy=accuracy_obj.id,\n",
    "    auc=auc_obj.id,\n",
    "    precision=precision_obj.id,\n",
    "    recall=recall_obj.id,\n",
    "    f1=f1_obj.id,\n",
    ")"
   ]
  }
 ],
 "metadata": {
  "kernelspec": {
   "display_name": "Python 3",
   "language": "python",
   "name": "python3"
  },
  "language_info": {
   "codemirror_mode": {
    "name": "ipython",
    "version": 3
   },
   "file_extension": ".py",
   "mimetype": "text/x-python",
   "name": "python",
   "nbconvert_exporter": "python",
   "pygments_lexer": "ipython3",
   "version": "3.10.11"
  }
 },
 "nbformat": 4,
 "nbformat_minor": 2
}
